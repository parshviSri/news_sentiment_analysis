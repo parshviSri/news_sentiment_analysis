{
 "cells": [
  {
   "cell_type": "markdown",
   "metadata": {},
   "source": [
    "Web Scrapping Financial express"
   ]
  },
  {
   "cell_type": "code",
   "execution_count": 1,
   "metadata": {},
   "outputs": [],
   "source": [
    "import pandas as pd"
   ]
  },
  {
   "cell_type": "code",
   "execution_count": 3,
   "metadata": {},
   "outputs": [
    {
     "name": "stdout",
     "output_type": "stream",
     "text": [
      "Note: you may need to restart the kernel to use updated packages.\n"
     ]
    }
   ],
   "source": [
    "# Selenium is used for web scrapping\n",
    "%pip install requests selenium --quiet"
   ]
  },
  {
   "cell_type": "code",
   "execution_count": 4,
   "metadata": {},
   "outputs": [],
   "source": [
    "from selenium import webdriver\n",
    "from selenium.webdriver.common.by import By"
   ]
  },
  {
   "cell_type": "markdown",
   "metadata": {},
   "source": [
    "Following method will go inside the website and will find required html tags( website are made of html tags) and extract  data out of it"
   ]
  },
  {
   "cell_type": "markdown",
   "metadata": {},
   "source": [
    "PS: this code is for chrome browser"
   ]
  },
  {
   "cell_type": "code",
   "execution_count": 26,
   "metadata": {},
   "outputs": [
    {
     "name": "stdout",
     "output_type": "stream",
     "text": [
      "https://www.financialexpress.com/market/page/1/\n",
      "https://www.financialexpress.com/market/page/2/\n",
      "https://www.financialexpress.com/market/page/3/\n",
      "https://www.financialexpress.com/market/page/4/\n",
      "https://www.financialexpress.com/market/page/5/\n",
      "https://www.financialexpress.com/market/page/6/\n",
      "https://www.financialexpress.com/market/page/7/\n",
      "https://www.financialexpress.com/market/page/8/\n",
      "https://www.financialexpress.com/market/page/9/\n"
     ]
    }
   ],
   "source": [
    "\n",
    "\n",
    "def get_article_details(url):\n",
    "    print(url)\n",
    "\n",
    "   # this is the setting chrome will use\n",
    "    chrome_options = webdriver.ChromeOptions()\n",
    "    chrome_options.add_argument(\"--headless\")\n",
    "    chrome_options.add_argument(\"--disable-gpu\")\n",
    "    chrome_options.add_argument(\"--no-sandbox\")\n",
    "    chrome_options.add_argument(\"--disable-dev-shm-usage\")\n",
    "\n",
    "    driver = webdriver.Chrome(options=chrome_options)\n",
    "    driver.get(url)\n",
    "\n",
    "    # Initialize an empty DataFrame for each news row\n",
    "    row_df = pd.DataFrame(columns=['Title', 'Author', 'Date', 'Excerpt'])\n",
    "\n",
    "    # Find the container for the entry\n",
    "    containers = driver.find_elements(By.XPATH, \"//div[@class='entry-wrapper']\")\n",
    "\n",
    "    for container in containers:\n",
    "        try:\n",
    "            title_element = container.find_element(By.XPATH, \".//h2[@class='entry-title']/a\")\n",
    "            title = title_element.text\n",
    "            article_url = title_element.get_attribute(\"href\")\n",
    "\n",
    "            excerpt_element = container.find_element(By.XPATH, \".//div[@class='hide-for-small-only post-excerpt']/p\")\n",
    "            excerpt = excerpt_element.text if excerpt_element else \"\"\n",
    "\n",
    "            author_element = container.find_element(By.XPATH, \".//div[@class='author-link']/a\")\n",
    "            author = author_element.text\n",
    "\n",
    "            date_element = container.find_element(By.XPATH, \".//time[@class='entry-date published']\")\n",
    "            date = date_element.text\n",
    "\n",
    "            new_row_df = pd.DataFrame({\n",
    "                \"Title\": [title],\n",
    "                \"URL\": [article_url],\n",
    "                \"Author\": [author],\n",
    "                \"Date\": [date],\n",
    "                \"Excerpt\": [excerpt]\n",
    "            })\n",
    "            row_df = pd.concat([row_df, new_row_df], ignore_index=True)\n",
    "        except Exception as e:\n",
    "            # print(f\"Error: {e}\")\n",
    "            continue\n",
    "\n",
    "    driver.quit()\n",
    "    return row_df\n",
    "\n",
    "base_url = \"https://www.financialexpress.com/market/page/\"\n",
    "all_article_details = pd.DataFrame(columns=['Title', 'URL', 'Author', 'Date', 'Excerpt'])\n",
    "\n",
    "# Loop through the pages\n",
    "for i in range(1, 10): #page 1 to 10\n",
    "    url = f\"{base_url}{i}/\"\n",
    "    article_df = get_article_details(url)\n",
    "    all_article_details = pd.concat([all_article_details, article_df], ignore_index=True)\n",
    "\n"
   ]
  },
  {
   "cell_type": "code",
   "execution_count": 27,
   "metadata": {},
   "outputs": [
    {
     "data": {
      "text/html": [
       "<div>\n",
       "<style scoped>\n",
       "    .dataframe tbody tr th:only-of-type {\n",
       "        vertical-align: middle;\n",
       "    }\n",
       "\n",
       "    .dataframe tbody tr th {\n",
       "        vertical-align: top;\n",
       "    }\n",
       "\n",
       "    .dataframe thead th {\n",
       "        text-align: right;\n",
       "    }\n",
       "</style>\n",
       "<table border=\"1\" class=\"dataframe\">\n",
       "  <thead>\n",
       "    <tr style=\"text-align: right;\">\n",
       "      <th></th>\n",
       "      <th>Title</th>\n",
       "      <th>URL</th>\n",
       "      <th>Author</th>\n",
       "      <th>Date</th>\n",
       "      <th>Excerpt</th>\n",
       "    </tr>\n",
       "  </thead>\n",
       "  <tbody>\n",
       "    <tr>\n",
       "      <th>0</th>\n",
       "      <td>Are markets closed on December 25, 2024?</td>\n",
       "      <td>https://www.financialexpress.com/market/are-ma...</td>\n",
       "      <td>Aniket Sharma</td>\n",
       "      <td>December 25, 2024 11:09 IST</td>\n",
       "      <td>Stock Market Holidays: Christmas, celebrated o...</td>\n",
       "    </tr>\n",
       "    <tr>\n",
       "      <th>1</th>\n",
       "      <td>The Role of Gold Reserves in National Economie...</td>\n",
       "      <td>https://www.financialexpress.com/market/commod...</td>\n",
       "      <td>FE Business</td>\n",
       "      <td>December 25, 2024 10:33 IST</td>\n",
       "      <td>Gold reserves are a key financial asset held b...</td>\n",
       "    </tr>\n",
       "    <tr>\n",
       "      <th>2</th>\n",
       "      <td>Newsmakers of 2024: Madhabi Puri Buch, chairpe...</td>\n",
       "      <td>https://www.financialexpress.com/market/newsma...</td>\n",
       "      <td>Joydeep Ghosh</td>\n",
       "      <td>December 25, 2024 05:45 IST</td>\n",
       "      <td>. The government should not shut the doors of ...</td>\n",
       "    </tr>\n",
       "    <tr>\n",
       "      <th>3</th>\n",
       "      <td>Tata Capital listing hopes drive group company...</td>\n",
       "      <td>https://www.financialexpress.com/market/tata-c...</td>\n",
       "      <td>Anupreksha Jain</td>\n",
       "      <td>December 24, 2024 21:50 IST</td>\n",
       "      <td>Tata Capital had assets under management of Rs...</td>\n",
       "    </tr>\n",
       "    <tr>\n",
       "      <th>4</th>\n",
       "      <td>Senores Pharmaceuticals IPO allotment likely o...</td>\n",
       "      <td>https://www.financialexpress.com/market/ipo-ne...</td>\n",
       "      <td>Sparsh Bansal</td>\n",
       "      <td>December 24, 2024 14:39 IST</td>\n",
       "      <td>Senores Pharmaceuticals IPO GMP Today: Senores...</td>\n",
       "    </tr>\n",
       "  </tbody>\n",
       "</table>\n",
       "</div>"
      ],
      "text/plain": [
       "                                               Title  \\\n",
       "0           Are markets closed on December 25, 2024?   \n",
       "1  The Role of Gold Reserves in National Economie...   \n",
       "2  Newsmakers of 2024: Madhabi Puri Buch, chairpe...   \n",
       "3  Tata Capital listing hopes drive group company...   \n",
       "4  Senores Pharmaceuticals IPO allotment likely o...   \n",
       "\n",
       "                                                 URL           Author  \\\n",
       "0  https://www.financialexpress.com/market/are-ma...    Aniket Sharma   \n",
       "1  https://www.financialexpress.com/market/commod...      FE Business   \n",
       "2  https://www.financialexpress.com/market/newsma...    Joydeep Ghosh   \n",
       "3  https://www.financialexpress.com/market/tata-c...  Anupreksha Jain   \n",
       "4  https://www.financialexpress.com/market/ipo-ne...    Sparsh Bansal   \n",
       "\n",
       "                          Date  \\\n",
       "0  December 25, 2024 11:09 IST   \n",
       "1  December 25, 2024 10:33 IST   \n",
       "2  December 25, 2024 05:45 IST   \n",
       "3  December 24, 2024 21:50 IST   \n",
       "4  December 24, 2024 14:39 IST   \n",
       "\n",
       "                                             Excerpt  \n",
       "0  Stock Market Holidays: Christmas, celebrated o...  \n",
       "1  Gold reserves are a key financial asset held b...  \n",
       "2  . The government should not shut the doors of ...  \n",
       "3  Tata Capital had assets under management of Rs...  \n",
       "4  Senores Pharmaceuticals IPO GMP Today: Senores...  "
      ]
     },
     "execution_count": 27,
     "metadata": {},
     "output_type": "execute_result"
    }
   ],
   "source": [
    "all_article_details.head(5)"
   ]
  },
  {
   "cell_type": "markdown",
   "metadata": {},
   "source": [
    "Sentimental Analysis of the obtained data"
   ]
  },
  {
   "cell_type": "markdown",
   "metadata": {},
   "source": [
    "Preprocessing of the text"
   ]
  },
  {
   "cell_type": "code",
   "execution_count": 28,
   "metadata": {},
   "outputs": [],
   "source": [
    "from nltk.corpus import stopwords\n",
    "import nltk\n",
    "from nltk.stem import WordNetLemmatizer"
   ]
  },
  {
   "cell_type": "code",
   "execution_count": 29,
   "metadata": {},
   "outputs": [],
   "source": [
    "stop_words = set(stopwords.words('english'))\n",
    "\n",
    "def remove_stop_words(sentence):\n",
    "  words = sentence.split()\n",
    "  words = [word for word in words if word.isalpha()]\n",
    "  filtered_words = [word for word in words if word not in stop_words]\n",
    "  return ' '.join(filtered_words)"
   ]
  },
  {
   "cell_type": "code",
   "execution_count": 30,
   "metadata": {},
   "outputs": [],
   "source": [
    "def apply_lemmatization(sentence):\n",
    "    words = sentence.split()\n",
    "    lemmatizer = WordNetLemmatizer()\n",
    "    lemmatized_words = [lemmatizer.lemmatize(word) for word in words]\n",
    "    return ' '.join(lemmatized_words)"
   ]
  },
  {
   "cell_type": "code",
   "execution_count": 31,
   "metadata": {},
   "outputs": [
    {
     "name": "stderr",
     "output_type": "stream",
     "text": [
      "No model was supplied, defaulted to distilbert-base-uncased-finetuned-sst-2-english and revision af0f99b (https://huggingface.co/distilbert-base-uncased-finetuned-sst-2-english).\n",
      "Using a pipeline without specifying a model name and revision in production is not recommended.\n"
     ]
    }
   ],
   "source": [
    "from transformers import pipeline\n",
    "sentiment_pipeline = pipeline(\"sentiment-analysis\", device=\"mps\")"
   ]
  },
  {
   "cell_type": "markdown",
   "metadata": {},
   "source": [
    "We are only doing for title of the news we can also do for the Excerpt as well "
   ]
  },
  {
   "cell_type": "code",
   "execution_count": 32,
   "metadata": {},
   "outputs": [],
   "source": [
    "all_article_details[\"Title\"]= all_article_details[\"Title\"].str.lower()\n",
    "all_article_details[\"Title\"] = all_article_details[\"Title\"].apply(lambda x: remove_stop_words(x))\n",
    "all_article_details[\"Title\"] = all_article_details[\"Title\"].apply(lambda x: apply_lemmatization(x))\n",
    "sentiment = sentiment_pipeline(all_article_details[\"Title\"].tolist())"
   ]
  },
  {
   "cell_type": "code",
   "execution_count": 43,
   "metadata": {},
   "outputs": [],
   "source": [
    "title_senti_df = pd.DataFrame(sentiment)"
   ]
  },
  {
   "cell_type": "code",
   "execution_count": 44,
   "metadata": {},
   "outputs": [
    {
     "data": {
      "text/html": [
       "<div>\n",
       "<style scoped>\n",
       "    .dataframe tbody tr th:only-of-type {\n",
       "        vertical-align: middle;\n",
       "    }\n",
       "\n",
       "    .dataframe tbody tr th {\n",
       "        vertical-align: top;\n",
       "    }\n",
       "\n",
       "    .dataframe thead th {\n",
       "        text-align: right;\n",
       "    }\n",
       "</style>\n",
       "<table border=\"1\" class=\"dataframe\">\n",
       "  <thead>\n",
       "    <tr style=\"text-align: right;\">\n",
       "      <th></th>\n",
       "      <th>label</th>\n",
       "      <th>score</th>\n",
       "    </tr>\n",
       "  </thead>\n",
       "  <tbody>\n",
       "    <tr>\n",
       "      <th>0</th>\n",
       "      <td>NEGATIVE</td>\n",
       "      <td>0.991717</td>\n",
       "    </tr>\n",
       "    <tr>\n",
       "      <th>1</th>\n",
       "      <td>POSITIVE</td>\n",
       "      <td>0.996173</td>\n",
       "    </tr>\n",
       "    <tr>\n",
       "      <th>2</th>\n",
       "      <td>NEGATIVE</td>\n",
       "      <td>0.711165</td>\n",
       "    </tr>\n",
       "    <tr>\n",
       "      <th>3</th>\n",
       "      <td>POSITIVE</td>\n",
       "      <td>0.939162</td>\n",
       "    </tr>\n",
       "    <tr>\n",
       "      <th>4</th>\n",
       "      <td>NEGATIVE</td>\n",
       "      <td>0.984885</td>\n",
       "    </tr>\n",
       "  </tbody>\n",
       "</table>\n",
       "</div>"
      ],
      "text/plain": [
       "      label     score\n",
       "0  NEGATIVE  0.991717\n",
       "1  POSITIVE  0.996173\n",
       "2  NEGATIVE  0.711165\n",
       "3  POSITIVE  0.939162\n",
       "4  NEGATIVE  0.984885"
      ]
     },
     "execution_count": 44,
     "metadata": {},
     "output_type": "execute_result"
    }
   ],
   "source": [
    "title_senti_df.head(5)"
   ]
  },
  {
   "cell_type": "code",
   "execution_count": 46,
   "metadata": {},
   "outputs": [],
   "source": [
    "all_article_details_with_sentiments= pd.concat([all_article_details,title_senti_df],axis=1)"
   ]
  },
  {
   "cell_type": "code",
   "execution_count": 47,
   "metadata": {},
   "outputs": [
    {
     "data": {
      "text/html": [
       "<div>\n",
       "<style scoped>\n",
       "    .dataframe tbody tr th:only-of-type {\n",
       "        vertical-align: middle;\n",
       "    }\n",
       "\n",
       "    .dataframe tbody tr th {\n",
       "        vertical-align: top;\n",
       "    }\n",
       "\n",
       "    .dataframe thead th {\n",
       "        text-align: right;\n",
       "    }\n",
       "</style>\n",
       "<table border=\"1\" class=\"dataframe\">\n",
       "  <thead>\n",
       "    <tr style=\"text-align: right;\">\n",
       "      <th></th>\n",
       "      <th>Title</th>\n",
       "      <th>URL</th>\n",
       "      <th>Author</th>\n",
       "      <th>Date</th>\n",
       "      <th>Excerpt</th>\n",
       "      <th>label</th>\n",
       "      <th>score</th>\n",
       "    </tr>\n",
       "  </thead>\n",
       "  <tbody>\n",
       "    <tr>\n",
       "      <th>0</th>\n",
       "      <td>market closed december</td>\n",
       "      <td>https://www.financialexpress.com/market/are-ma...</td>\n",
       "      <td>Aniket Sharma</td>\n",
       "      <td>December 25, 2024 11:09 IST</td>\n",
       "      <td>Stock Market Holidays: Christmas, celebrated o...</td>\n",
       "      <td>NEGATIVE</td>\n",
       "      <td>0.991717</td>\n",
       "    </tr>\n",
       "    <tr>\n",
       "      <th>1</th>\n",
       "      <td>role gold reserve national global overview</td>\n",
       "      <td>https://www.financialexpress.com/market/commod...</td>\n",
       "      <td>FE Business</td>\n",
       "      <td>December 25, 2024 10:33 IST</td>\n",
       "      <td>Gold reserves are a key financial asset held b...</td>\n",
       "      <td>POSITIVE</td>\n",
       "      <td>0.996173</td>\n",
       "    </tr>\n",
       "    <tr>\n",
       "      <th>2</th>\n",
       "      <td>newsmakers madhabi puri sebi</td>\n",
       "      <td>https://www.financialexpress.com/market/newsma...</td>\n",
       "      <td>Joydeep Ghosh</td>\n",
       "      <td>December 25, 2024 05:45 IST</td>\n",
       "      <td>. The government should not shut the doors of ...</td>\n",
       "      <td>NEGATIVE</td>\n",
       "      <td>0.711165</td>\n",
       "    </tr>\n",
       "    <tr>\n",
       "      <th>3</th>\n",
       "      <td>tata capital listing hope drive group company ...</td>\n",
       "      <td>https://www.financialexpress.com/market/tata-c...</td>\n",
       "      <td>Anupreksha Jain</td>\n",
       "      <td>December 24, 2024 21:50 IST</td>\n",
       "      <td>Tata Capital had assets under management of Rs...</td>\n",
       "      <td>POSITIVE</td>\n",
       "      <td>0.939162</td>\n",
       "    </tr>\n",
       "    <tr>\n",
       "      <th>4</th>\n",
       "      <td>senor pharmaceutical ipo allotment likely dece...</td>\n",
       "      <td>https://www.financialexpress.com/market/ipo-ne...</td>\n",
       "      <td>Sparsh Bansal</td>\n",
       "      <td>December 24, 2024 14:39 IST</td>\n",
       "      <td>Senores Pharmaceuticals IPO GMP Today: Senores...</td>\n",
       "      <td>NEGATIVE</td>\n",
       "      <td>0.984885</td>\n",
       "    </tr>\n",
       "  </tbody>\n",
       "</table>\n",
       "</div>"
      ],
      "text/plain": [
       "                                               Title  \\\n",
       "0                             market closed december   \n",
       "1         role gold reserve national global overview   \n",
       "2                       newsmakers madhabi puri sebi   \n",
       "3  tata capital listing hope drive group company ...   \n",
       "4  senor pharmaceutical ipo allotment likely dece...   \n",
       "\n",
       "                                                 URL           Author  \\\n",
       "0  https://www.financialexpress.com/market/are-ma...    Aniket Sharma   \n",
       "1  https://www.financialexpress.com/market/commod...      FE Business   \n",
       "2  https://www.financialexpress.com/market/newsma...    Joydeep Ghosh   \n",
       "3  https://www.financialexpress.com/market/tata-c...  Anupreksha Jain   \n",
       "4  https://www.financialexpress.com/market/ipo-ne...    Sparsh Bansal   \n",
       "\n",
       "                          Date  \\\n",
       "0  December 25, 2024 11:09 IST   \n",
       "1  December 25, 2024 10:33 IST   \n",
       "2  December 25, 2024 05:45 IST   \n",
       "3  December 24, 2024 21:50 IST   \n",
       "4  December 24, 2024 14:39 IST   \n",
       "\n",
       "                                             Excerpt     label     score  \n",
       "0  Stock Market Holidays: Christmas, celebrated o...  NEGATIVE  0.991717  \n",
       "1  Gold reserves are a key financial asset held b...  POSITIVE  0.996173  \n",
       "2  . The government should not shut the doors of ...  NEGATIVE  0.711165  \n",
       "3  Tata Capital had assets under management of Rs...  POSITIVE  0.939162  \n",
       "4  Senores Pharmaceuticals IPO GMP Today: Senores...  NEGATIVE  0.984885  "
      ]
     },
     "execution_count": 47,
     "metadata": {},
     "output_type": "execute_result"
    }
   ],
   "source": [
    "all_article_details_with_sentiments.head(5)"
   ]
  }
 ],
 "metadata": {
  "kernelspec": {
   "display_name": "Python 3 (ipykernel)",
   "language": "python",
   "name": "python3"
  },
  "language_info": {
   "codemirror_mode": {
    "name": "ipython",
    "version": 3
   },
   "file_extension": ".py",
   "mimetype": "text/x-python",
   "name": "python",
   "nbconvert_exporter": "python",
   "pygments_lexer": "ipython3",
   "version": "3.11.5"
  }
 },
 "nbformat": 4,
 "nbformat_minor": 2
}
